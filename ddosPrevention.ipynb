{
  "nbformat": 4,
  "nbformat_minor": 0,
  "metadata": {
    "colab": {
      "name": "ddosPrevention.ipynb",
      "provenance": [],
      "collapsed_sections": [],
      "machine_shape": "hm"
    },
    "kernelspec": {
      "name": "python3",
      "display_name": "Python 3"
    },
    "language_info": {
      "name": "python"
    },
    "accelerator": "GPU"
  },
  "cells": [
    {
      "cell_type": "code",
      "metadata": {
        "colab": {
          "base_uri": "https://localhost:8080/"
        },
        "id": "SIxVIlt1j1fV",
        "outputId": "b0a8a124-d969-46ae-8998-185cc7fce9ae"
      },
      "source": [
        "from google.colab import drive\n",
        "drive._mount('/content/drive')"
      ],
      "execution_count": 3,
      "outputs": [
        {
          "output_type": "stream",
          "name": "stdout",
          "text": [
            "Drive already mounted at /content/drive; to attempt to forcibly remount, call drive.mount(\"/content/drive\", force_remount=True).\n"
          ]
        }
      ]
    },
    {
      "cell_type": "code",
      "metadata": {
        "id": "AP2X1NTMvqfN",
        "colab": {
          "base_uri": "https://localhost:8080/"
        },
        "outputId": "76b3e8bd-cf5a-4960-9c8e-3c0dfe455e91"
      },
      "source": [
        "!unzip -qq /content/drive/MyDrive/03-11.zip"
      ],
      "execution_count": 4,
      "outputs": [
        {
          "output_type": "stream",
          "name": "stdout",
          "text": [
            "replace __MACOSX/._03-11? [y]es, [n]o, [A]ll, [N]one, [r]ename: n\n",
            "replace 03-11/Syn.csv? [y]es, [n]o, [A]ll, [N]one, [r]ename: N\n"
          ]
        }
      ]
    },
    {
      "cell_type": "code",
      "metadata": {
        "id": "8Mhqdlsqd7jB"
      },
      "source": [
        "!unzip -qq /content/drive/MyDrive/CSV-01-12.zip"
      ],
      "execution_count": 3,
      "outputs": []
    },
    {
      "cell_type": "code",
      "metadata": {
        "id": "2aiFANJrfukI"
      },
      "source": [
        "!unzip -qq /content/drive/MyDrive/reference.zip"
      ],
      "execution_count": 4,
      "outputs": []
    },
    {
      "cell_type": "code",
      "metadata": {
        "id": "9BDdQwa7fBZT"
      },
      "source": [
        "import pandas as pd\n",
        "import numpy as np\n",
        "import tensorflow as tf\n",
        "from sklearn.preprocessing import QuantileTransformer\n",
        "from sklearn.model_selection import train_test_split\n",
        "from sklearn.metrics import accuracy_score\n",
        "from sklearn.metrics import confusion_matrix\n",
        "from sklearn import preprocessing\n",
        "from sklearn import metrics\n",
        "from sklearn.metrics import precision_score\n",
        "from sklearn.metrics import recall_score\n",
        "from sklearn.metrics import f1_score\n",
        "from keras.models import Sequential\n",
        "from keras.layers import Dense, Dropout\n",
        "from tensorflow.keras.utils import to_categorical\n",
        "from keras.callbacks import ModelCheckpoint, EarlyStopping\n",
        "from tensorflow.keras.optimizers import Adam\n",
        "from keras.models import load_model\n",
        "import sys"
      ],
      "execution_count": 5,
      "outputs": []
    },
    {
      "cell_type": "code",
      "metadata": {
        "id": "koqCnQmWeWkB"
      },
      "source": [
        "import os\n",
        "task = 'train'\n",
        "if task == 'train':\n",
        "    train_flag = True\n",
        "elif task == 'test':\n",
        "    train_flag = False\n",
        "    # model_path = sys.argv[4]\n",
        "else:\n",
        "    sys.exit('Invalid Operation')\n",
        "\n",
        "os.mkdir('new_output_folder')\n",
        "os.mkdir('save_outputs')"
      ],
      "execution_count": 7,
      "outputs": []
    },
    {
      "cell_type": "code",
      "metadata": {
        "colab": {
          "base_uri": "https://localhost:8080/"
        },
        "id": "0Ht-2YMBfF-3",
        "outputId": "fff71024-a144-4a7a-bdf1-a2da511eef28"
      },
      "source": [
        "features_file = '/content/reference/features.txt'\n",
        "run_no = '/content/new_output_folder'\n",
        "print('running script run no: ' + run_no)\n"
      ],
      "execution_count": 8,
      "outputs": [
        {
          "output_type": "stream",
          "name": "stdout",
          "text": [
            "running script run no: /content/new_output_folder\n"
          ]
        }
      ]
    },
    {
      "cell_type": "code",
      "metadata": {
        "id": "c04QsZccgnRg"
      },
      "source": [
        "max_val = 99999\n",
        "\n",
        "with open(features_file) as f:\n",
        "    features = [feature.strip() for feature in f]\n",
        "\n",
        "if train_flag:\n",
        "    with open('/content/reference/test_files.txt') as f:\n",
        "        train_files = [filename.strip() for filename in f]\n",
        "\n",
        "with open('/content/reference/train_files.txt') as f:\n",
        "    test_files = [filename.strip() for filename in f]\n",
        "\n",
        "\n",
        "    "
      ],
      "execution_count": 9,
      "outputs": []
    },
    {
      "cell_type": "code",
      "metadata": {
        "id": "OnDc3YaBih3W"
      },
      "source": [
        "test_dir = '/content/01-12/'\n",
        "train_dir = '/content/03-11/'\n",
        "output_dir ='/content/save_outputs/'"
      ],
      "execution_count": 13,
      "outputs": []
    },
    {
      "cell_type": "code",
      "metadata": {
        "id": "670uMdRhjdjL"
      },
      "source": [
        "def read_file(filename, y_out):\n",
        "    df = pd.read_csv(filename)\n",
        "    df.columns = df.columns.str.strip()\n",
        "    df = df[features] \n",
        "    NewLabel = []\n",
        "    for i in df[\"Label\"]:\n",
        "        if i ==\"BENIGN\":\n",
        "            NewLabel.append(0)\n",
        "        else:\n",
        "            NewLabel.append(1)\n",
        "    df[\"Label\"]=NewLabel\n",
        "    y = df['Label'].values\n",
        "    y_out = y_out.extend(y)\n",
        "    del df['Label']\n",
        "\n",
        "    df = df.replace('Infinity', max_val)\n",
        "    x = df.values\n",
        "    scaler = QuantileTransformer(n_quantiles=1000, random_state=42)\n",
        "    scaled_df = scaler.fit_transform(x)\n",
        "    #scaled_df=(df-df.mean())/df.std()\n",
        "    x = pd.DataFrame(scaled_df)\n",
        "    return x\n",
        "    "
      ],
      "execution_count": 14,
      "outputs": []
    },
    {
      "cell_type": "code",
      "metadata": {
        "colab": {
          "base_uri": "https://localhost:8080/"
        },
        "id": "b4aBM1uVjjc_",
        "outputId": "3fb1d71a-e45a-446c-b47e-30bbe3a52cba"
      },
      "source": [
        "nClasses = 2\n",
        "#### LOAD TRAIN DATA ######\n",
        "if train_flag:\n",
        "\n",
        "    new_x = pd.DataFrame()\n",
        "    temp_y = []\n",
        "\n",
        "    for f in train_files:\n",
        "        print('Processing file ' + f + '\\n')\n",
        "        new_x = new_x.append(read_file(train_dir + f, temp_y))\n",
        "        print('Processed file ' + f + ' , total samples is ' + str(len(temp_y)) + '\\n')\n",
        "\n",
        "    #new_y = np.asarray(temp_y)\n",
        "    new_y = to_categorical(temp_y, num_classes=nClasses)\n",
        "\n",
        "    xTrain, xVal, yTrain, yVal = train_test_split(new_x, new_y, test_size = 0.2, random_state = 42)\n",
        "    #np.savetxt('train_idx', idx1)\n",
        "    #np.savetxt('test_idx', idx2)\n",
        "\n",
        "    print('train size: ', xTrain.shape)\n",
        "    print('train labels: ', yTrain.shape)\n",
        "    print('Valid size: ',  xVal.shape)\n",
        "    print('Valid labels: ',  yVal.shape)\n"
      ],
      "execution_count": 16,
      "outputs": [
        {
          "output_type": "stream",
          "name": "stdout",
          "text": [
            "Processing file LDAP.csv\n",
            "\n"
          ]
        },
        {
          "output_type": "stream",
          "name": "stderr",
          "text": [
            "/usr/local/lib/python3.7/dist-packages/IPython/core/interactiveshell.py:2822: DtypeWarning: Columns (85) have mixed types.Specify dtype option on import or set low_memory=False.\n",
            "  if self.run_code(code, result):\n"
          ]
        },
        {
          "output_type": "stream",
          "name": "stdout",
          "text": [
            "Processed file LDAP.csv , total samples is 2113234\n",
            "\n",
            "Processing file MSSQL.csv\n",
            "\n"
          ]
        },
        {
          "output_type": "stream",
          "name": "stderr",
          "text": [
            "/usr/local/lib/python3.7/dist-packages/IPython/core/interactiveshell.py:2822: DtypeWarning: Columns (85) have mixed types.Specify dtype option on import or set low_memory=False.\n",
            "  if self.run_code(code, result):\n"
          ]
        },
        {
          "output_type": "stream",
          "name": "stdout",
          "text": [
            "Processed file MSSQL.csv , total samples is 7889020\n",
            "\n",
            "Processing file NetBIOS.csv\n",
            "\n"
          ]
        },
        {
          "output_type": "stream",
          "name": "stderr",
          "text": [
            "/usr/local/lib/python3.7/dist-packages/IPython/core/interactiveshell.py:2822: DtypeWarning: Columns (85) have mixed types.Specify dtype option on import or set low_memory=False.\n",
            "  if self.run_code(code, result):\n"
          ]
        },
        {
          "output_type": "stream",
          "name": "stdout",
          "text": [
            "Processed file NetBIOS.csv , total samples is 11344919\n",
            "\n",
            "Processing file Portmap.csv\n",
            "\n"
          ]
        },
        {
          "output_type": "stream",
          "name": "stderr",
          "text": [
            "/usr/local/lib/python3.7/dist-packages/IPython/core/interactiveshell.py:2822: DtypeWarning: Columns (85) have mixed types.Specify dtype option on import or set low_memory=False.\n",
            "  if self.run_code(code, result):\n"
          ]
        },
        {
          "output_type": "stream",
          "name": "stdout",
          "text": [
            "Processed file Portmap.csv , total samples is 11536613\n",
            "\n",
            "Processing file Syn.csv\n",
            "\n"
          ]
        },
        {
          "output_type": "stream",
          "name": "stderr",
          "text": [
            "/usr/local/lib/python3.7/dist-packages/IPython/core/interactiveshell.py:2822: DtypeWarning: Columns (85) have mixed types.Specify dtype option on import or set low_memory=False.\n",
            "  if self.run_code(code, result):\n"
          ]
        },
        {
          "output_type": "stream",
          "name": "stdout",
          "text": [
            "Processed file Syn.csv , total samples is 15857154\n",
            "\n",
            "Processing file UDP.csv\n",
            "\n"
          ]
        },
        {
          "output_type": "stream",
          "name": "stderr",
          "text": [
            "/usr/local/lib/python3.7/dist-packages/IPython/core/interactiveshell.py:2822: DtypeWarning: Columns (85) have mixed types.Specify dtype option on import or set low_memory=False.\n",
            "  if self.run_code(code, result):\n"
          ]
        },
        {
          "output_type": "stream",
          "name": "stdout",
          "text": [
            "Processed file UDP.csv , total samples is 19639360\n",
            "\n",
            "Processing file UDPLag.csv\n",
            "\n"
          ]
        },
        {
          "output_type": "stream",
          "name": "stderr",
          "text": [
            "/usr/local/lib/python3.7/dist-packages/IPython/core/interactiveshell.py:2822: DtypeWarning: Columns (85) have mixed types.Specify dtype option on import or set low_memory=False.\n",
            "  if self.run_code(code, result):\n"
          ]
        },
        {
          "output_type": "stream",
          "name": "stdout",
          "text": [
            "Processed file UDPLag.csv , total samples is 20364525\n",
            "\n",
            "train size:  (16291620, 19)\n",
            "train labels:  (16291620, 2)\n",
            "Valid size:  (4072905, 19)\n",
            "Valid labels:  (4072905, 2)\n"
          ]
        }
      ]
    },
    {
      "cell_type": "code",
      "metadata": {
        "id": "8UMMuIWIjpbo"
      },
      "source": [
        "#### LOAD TEST DATA #######\n",
        "new_x = pd.DataFrame()\n",
        "temp_y = []\n",
        "\n",
        "for f in test_files:\n",
        "    print('Processing file ' + f + '\\n')\n",
        "    new_x = new_x.append(read_file(test_dir + f, temp_y))\n",
        "    print('Processed file ' + f + ' , total samples is ' + str(len(temp_y)) + '\\n')\n",
        "\n",
        "xTest = np.asarray(new_x)\n",
        "#yTest = np.asarray(temp_y)\n",
        "yTest = to_categorical(temp_y, num_classes=nClasses)\n",
        "\n",
        "#xTest, xTemp, yTest, yTemp = train_test_split(new_x, new_y, test_size = 0.01, random_state = 42)\n",
        "#np.savetxt('train_idx', idx1)\n",
        "#np.savetxt('test_idx', idx2)\n",
        "\n",
        "print('test size: ',  xTest.shape)\n"
      ],
      "execution_count": null,
      "outputs": []
    },
    {
      "cell_type": "code",
      "metadata": {
        "colab": {
          "base_uri": "https://localhost:8080/"
        },
        "id": "UuwqUKU2juez",
        "outputId": "2458ea78-c75f-4fb1-8de1-c353475a60f0"
      },
      "source": [
        "model = Sequential()\n",
        "model.add(Dense(64, input_dim=len(features)-1, activation='relu'))\n",
        "model.add(Dropout(0.25))\n",
        "model.add(Dense(64, activation='relu'))\n",
        "model.add(Dropout(0.25))\n",
        "model.add(Dense(64, activation='relu'))\n",
        "model.add(Dropout(0.25))\n",
        "model.add(Dense(nClasses, activation='softmax'))\n",
        "print(model.summary(90))\n",
        "model.compile(loss='categorical_crossentropy', optimizer='rmsprop', metrics=['accuracy'])"
      ],
      "execution_count": null,
      "outputs": [
        {
          "output_type": "stream",
          "name": "stdout",
          "text": [
            "Model: \"sequential\"\n",
            "__________________________________________________________________________________________\n",
            " Layer (type)                           Output Shape                        Param #       \n",
            "==========================================================================================\n",
            " dense (Dense)                          (None, 64)                          1280          \n",
            "                                                                                          \n",
            " dropout (Dropout)                      (None, 64)                          0             \n",
            "                                                                                          \n",
            " dense_1 (Dense)                        (None, 64)                          4160          \n",
            "                                                                                          \n",
            " dropout_1 (Dropout)                    (None, 64)                          0             \n",
            "                                                                                          \n",
            " dense_2 (Dense)                        (None, 64)                          4160          \n",
            "                                                                                          \n",
            " dropout_2 (Dropout)                    (None, 64)                          0             \n",
            "                                                                                          \n",
            " dense_3 (Dense)                        (None, 2)                           130           \n",
            "                                                                                          \n",
            "==========================================================================================\n",
            "Total params: 9,730\n",
            "Trainable params: 9,730\n",
            "Non-trainable params: 0\n",
            "__________________________________________________________________________________________\n",
            "None\n"
          ]
        }
      ]
    },
    {
      "cell_type": "code",
      "metadata": {
        "colab": {
          "base_uri": "https://localhost:8080/",
          "height": 555
        },
        "id": "pFkitQ28j6yu",
        "outputId": "89383e4e-a96c-4510-be88-cdc748ca8070"
      },
      "source": [
        "num_batch = 1000\n",
        "num_epochs = 10\n",
        "es = EarlyStopping(monitor='val_accuracy', min_delta=0, patience=num_epochs, mode='auto', baseline=None, restore_best_weights=True, verbose=1)\n",
        "if train_flag:\n",
        "\n",
        "    model.fit(xTrain, yTrain, batch_size=num_batch, epochs = num_epochs, verbose=1, callbacks=[es], validation_data=[xVal, yVal])\n",
        "    model.save(output_dir + run_no + '/model_weights')\n",
        "else:\n",
        "    model = load_model(model_path)\n",
        "print(model.evaluate(xTest,yTest))\n"
      ],
      "execution_count": null,
      "outputs": [
        {
          "output_type": "stream",
          "name": "stdout",
          "text": [
            "Epoch 1/10\n",
            "16292/16292 [==============================] - 65s 4ms/step - loss: 0.0028 - accuracy: 0.9994\n",
            "Epoch 2/10\n",
            "16292/16292 [==============================] - 62s 4ms/step - loss: 0.0020 - accuracy: 0.9996\n",
            "Epoch 3/10\n",
            "16292/16292 [==============================] - 62s 4ms/step - loss: 0.0021 - accuracy: 0.9996\n",
            "Epoch 4/10\n",
            "16292/16292 [==============================] - 61s 4ms/step - loss: 0.0021 - accuracy: 0.9996\n",
            "Epoch 5/10\n",
            "16292/16292 [==============================] - 61s 4ms/step - loss: 0.0022 - accuracy: 0.9996\n",
            "Epoch 6/10\n",
            "16292/16292 [==============================] - 62s 4ms/step - loss: 0.0021 - accuracy: 0.9996\n",
            "Epoch 7/10\n",
            "16292/16292 [==============================] - 62s 4ms/step - loss: 0.0022 - accuracy: 0.9996\n",
            "Epoch 8/10\n",
            "16292/16292 [==============================] - 61s 4ms/step - loss: 0.0022 - accuracy: 0.9996\n",
            "Epoch 9/10\n",
            "16292/16292 [==============================] - 61s 4ms/step - loss: 0.0023 - accuracy: 0.9996\n",
            "Epoch 10/10\n",
            "16292/16292 [==============================] - 61s 4ms/step - loss: 0.0023 - accuracy: 0.9996\n",
            "INFO:tensorflow:Assets written to: /content/save_outputs//content/new_output_folder/model_weights/assets\n"
          ]
        },
        {
          "output_type": "error",
          "ename": "NameError",
          "evalue": "ignored",
          "traceback": [
            "\u001b[0;31m---------------------------------------------------------------------------\u001b[0m",
            "\u001b[0;31mNameError\u001b[0m                                 Traceback (most recent call last)",
            "\u001b[0;32m<ipython-input-28-9748fe290600>\u001b[0m in \u001b[0;36m<module>\u001b[0;34m()\u001b[0m\n\u001b[1;32m      8\u001b[0m \u001b[0;32melse\u001b[0m\u001b[0;34m:\u001b[0m\u001b[0;34m\u001b[0m\u001b[0;34m\u001b[0m\u001b[0m\n\u001b[1;32m      9\u001b[0m     \u001b[0mmodel\u001b[0m \u001b[0;34m=\u001b[0m \u001b[0mload_model\u001b[0m\u001b[0;34m(\u001b[0m\u001b[0mmodel_path\u001b[0m\u001b[0;34m)\u001b[0m\u001b[0;34m\u001b[0m\u001b[0;34m\u001b[0m\u001b[0m\n\u001b[0;32m---> 10\u001b[0;31m \u001b[0mprint\u001b[0m\u001b[0;34m(\u001b[0m\u001b[0mmodel\u001b[0m\u001b[0;34m.\u001b[0m\u001b[0mevaluate\u001b[0m\u001b[0;34m(\u001b[0m\u001b[0mxTest\u001b[0m\u001b[0;34m,\u001b[0m\u001b[0myTest\u001b[0m\u001b[0;34m)\u001b[0m\u001b[0;34m)\u001b[0m\u001b[0;34m\u001b[0m\u001b[0;34m\u001b[0m\u001b[0m\n\u001b[0m",
            "\u001b[0;31mNameError\u001b[0m: name 'xTest' is not defined"
          ]
        }
      ]
    },
    {
      "cell_type": "code",
      "metadata": {
        "id": "UAFQ1sA_kDV5"
      },
      "source": [
        "prediction = np.argmax(model.predict(xTest), axis=1)\n",
        "y_test = np.argmax(yTest, axis=1)\n",
        "print('\\n Accuracy: ')\n",
        "print(accuracy_score(y_test, prediction))\n",
        "print('\\n F1 score: ')\n",
        "print(f1_score(y_test, prediction))\n",
        "print('\\n Recall: ')\n",
        "print(recall_score(y_test, prediction))\n",
        "print('\\n Precision: ')\n",
        "print(precision_score(y_test, prediction))\n",
        "print('\\n confusion matrix: \\n')\n",
        "print(confusion_matrix(y_test, prediction))\n",
        "np.savetxt(output_dir + run_no +'/predictions.txt', prediction)\n",
        "np.savetxt(output_dir + run_no +'/ground_truth.txt', y_test)"
      ],
      "execution_count": null,
      "outputs": []
    }
  ]
}